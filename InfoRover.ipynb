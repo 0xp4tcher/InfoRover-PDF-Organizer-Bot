{
  "cells": [
    {
      "cell_type": "code",
      "execution_count": null,
      "metadata": {
        "id": "hNR0D2iQ9jP7"
      },
      "outputs": [],
      "source": [
        "from dotenv import load_dotenv\n",
        "import os\n",
        "from PyPDF2 import PdfReader\n",
        "import docx \n",
        "\n",
        "from langchain.text_splitter import CharacterTextSplitter\n",
        "from langchain.embeddings.openai import OpenAIEmbeddings\n",
        "from langchain.vectorstores import FAISS\n",
        "from langchain.chains.question_answering import load_qa_chain\n",
        "from langchain.llms import OpenAI\n",
        "from langchain.callbacks import get_openai_callback\n"
      ]
    },
    {
      "cell_type": "code",
      "execution_count": null,
      "metadata": {
        "colab": {
          "base_uri": "https://localhost:8080/"
        },
        "id": "pXv_tZ_X90XK",
        "outputId": "d125f71e-c439-486e-9ae0-c771293f265b"
      },
      "outputs": [
        {
          "data": {
            "text/plain": [
              "False"
            ]
          },
          "execution_count": 7,
          "metadata": {},
          "output_type": "execute_result"
        }
      ],
      "source": [
        "load_dotenv()"
      ]
    },
    {
      "cell_type": "code",
      "execution_count": null,
      "metadata": {
        "id": "D9czV9r0-Uj7"
      },
      "outputs": [],
      "source": [
        "def read_pdf(file_path):\n",
        "    with open(file_path, \"rb\") as file:\n",
        "        pdf_reader = PdfReader(file)\n",
        "        text = \"\"\n",
        "        for page_num in range(len(pdf_reader.pages)):\n",
        "            text += pdf_reader.pages[page_num].extract_text()\n",
        "    return text"
      ]
    },
    {
      "cell_type": "code",
      "execution_count": null,
      "metadata": {
        "id": "wuGR2uyX-cyC"
      },
      "outputs": [],
      "source": [
        "def read_word(file_path):\n",
        "    doc = docx.Document(file_path)\n",
        "    text = \"\"\n",
        "    for paragraph in doc.paragraphs:\n",
        "        text += paragraph.text + \"\\n\"\n",
        "    return text"
      ]
    },
    {
      "cell_type": "code",
      "execution_count": null,
      "metadata": {
        "id": "1b07zd1Q-e7y"
      },
      "outputs": [],
      "source": [
        "def read_txt(file_path):\n",
        "    with open(file_path, \"r\") as file:\n",
        "        text = file.read()\n",
        "    return text"
      ]
    },
    {
      "cell_type": "code",
      "execution_count": null,
      "metadata": {
        "id": "_-m32TOy-grf"
      },
      "outputs": [],
      "source": [
        "def read_documents_from_directory(directory):\n",
        "    combined_text = \"\"\n",
        "    for filename in os.listdir(directory):\n",
        "        file_path = os.path.join(directory, filename)\n",
        "        if filename.endswith(\".pdf\"):\n",
        "            combined_text += read_pdf(file_path)\n",
        "        elif filename.endswith(\".docx\"):\n",
        "            combined_text += read_word(file_path)\n",
        "        elif filename.endswith(\".txt\"):\n",
        "            combined_text += read_txt(file_path)\n",
        "    return combined_text"
      ]
    },
    {
      "cell_type": "code",
      "execution_count": null,
      "metadata": {
        "id": "UrU_hD9m-ieA"
      },
      "outputs": [],
      "source": [
        "train_directory = '/content/'\n",
        "text = read_documents_from_directory(train_directory)"
      ]
    },
    {
      "cell_type": "code",
      "execution_count": null,
      "metadata": {
        "id": "Ee5cnjjiAd1I"
      },
      "outputs": [],
      "source": [
        "text"
      ]
    },
    {
      "cell_type": "code",
      "execution_count": null,
      "metadata": {
        "id": "wzL9sGu6-48Q"
      },
      "outputs": [],
      "source": [
        "char_text_splitter = CharacterTextSplitter(separator=\"\\n\", chunk_size=1000,\n",
        "                                      chunk_overlap=200, length_function=len)"
      ]
    },
    {
      "cell_type": "code",
      "execution_count": null,
      "metadata": {
        "id": "p-in8sm3-5gr"
      },
      "outputs": [],
      "source": [
        "text_chunks = char_text_splitter.split_text(text)"
      ]
    },
    {
      "cell_type": "code",
      "execution_count": null,
      "metadata": {
        "id": "MQXAcPStBGM6"
      },
      "outputs": [],
      "source": [
        "os.environ[\"OPENAI_API_KEY\"] = 'API KEY'"
      ]
    },
    {
      "cell_type": "code",
      "execution_count": null,
      "metadata": {
        "id": "N7ORIS_6-7q0"
      },
      "outputs": [],
      "source": [
        "embeddings = OpenAIEmbeddings()\n",
        "docsearch = FAISS.from_texts(text_chunks, embeddings)"
      ]
    },
    {
      "cell_type": "code",
      "execution_count": null,
      "metadata": {
        "id": "x6xCeY8g-9w_"
      },
      "outputs": [],
      "source": [
        "llm = OpenAI()\n",
        "chain = load_qa_chain(llm, chain_type=\"stuff\")"
      ]
    },
    {
      "cell_type": "code",
      "execution_count": null,
      "metadata": {
        "colab": {
          "base_uri": "https://localhost:8080/"
        },
        "id": "3hX4g0wj_AP4",
        "outputId": "0b83c0a1-870b-406a-93f6-0f38ffca063e"
      },
      "outputs": [
        {
          "name": "stdout",
          "output_type": "stream",
          "text": [
            "Explain the implementation process\n",
            " \n",
            "Explain the implementation process\n",
            " The implementation process involves utilizing AI and ML technologies to conduct thorough analysis of mobile app terms, privacy policies, and cookie policies. This includes employing advanced NLP techniques to understand the text within these documents and extracting vital compliance-related information. The AI and ML analysis engine serves as the core of the system, learning from data and providing insights. The implementation also adheres to ethical AI principles and aims to empower both regulatory authorities and businesses to address compliance gaps and enhance data security.\n",
            "Tokens Used: 952\n",
            "\tPrompt Tokens: 817\n",
            "\tCompletion Tokens: 135\n",
            "Successful Requests: 1\n",
            "Total Cost (USD): $0.0014955\n"
          ]
        }
      ],
      "source": [
        "query  = input()\n",
        "\n",
        "docs = docsearch.similarity_search(query )\n",
        "\n",
        "response = chain.run(input_documents=docs, question=query )\n",
        "print(\" \")\n",
        "print(query)\n",
        "print(response)\n",
        "\n",
        "#If you want to keep track of your spending\n",
        "with get_openai_callback() as cb:\n",
        "    response = chain.run(input_documents=docs, question=query )\n",
        "    print(cb)\n"
      ]
    },
    {
      "cell_type": "code",
      "execution_count": null,
      "metadata": {
        "id": "IEiars0ZB5GM"
      },
      "outputs": [],
      "source": []
    }
  ],
  "metadata": {
    "accelerator": "GPU",
    "colab": {
      "gpuType": "T4",
      "provenance": []
    },
    "kernelspec": {
      "display_name": "Python 3",
      "name": "python3"
    },
    "language_info": {
      "name": "python"
    }
  },
  "nbformat": 4,
  "nbformat_minor": 0
}
